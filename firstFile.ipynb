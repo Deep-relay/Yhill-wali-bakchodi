{
  "cells": [
    {
      "cell_type": "markdown",
      "metadata": {
        "id": "8ZmtqauVtao6"
      },
      "source": [
        "### First file\n",
        "### Colab se commit"
      ]
    }
  ],
  "metadata": {
    "language_info": {
      "name": "python"
    },
    "colab": {
      "provenance": []
    },
    "kernelspec": {
      "name": "python3",
      "display_name": "Python 3"
    }
  },
  "nbformat": 4,
  "nbformat_minor": 0
}