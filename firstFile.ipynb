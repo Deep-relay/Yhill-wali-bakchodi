{
  "cells": [
    {
      "cell_type": "markdown",
      "metadata": {
        "id": "8ZmtqauVtao6"
      },
      "source": [
        "### YHills wali bakchodi ki starting"
      ]
    },
    {
      "cell_type": "code",
      "source": [],
      "metadata": {
        "id": "TB4XCYhZwSdV",
        "outputId": "215f34e1-2ee1-499e-e70f-bcbf8bffb098",
        "colab": {
          "base_uri": "https://localhost:8080/"
        }
      },
      "execution_count": 2,
      "outputs": [
        {
          "output_type": "stream",
          "name": "stdout",
          "text": [
            "hello\n"
          ]
        }
      ]
    }
  ],
  "metadata": {
    "language_info": {
      "name": "python"
    },
    "colab": {
      "provenance": []
    },
    "kernelspec": {
      "name": "python3",
      "display_name": "Python 3"
    }
  },
  "nbformat": 4,
  "nbformat_minor": 0
}