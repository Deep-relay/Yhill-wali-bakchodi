{
  "nbformat": 4,
  "nbformat_minor": 0,
  "metadata": {
    "colab": {
      "provenance": [],
      "include_colab_link": true
    },
    "kernelspec": {
      "name": "python3",
      "display_name": "Python 3"
    },
    "language_info": {
      "name": "python"
    }
  },
  "cells": [
    {
      "cell_type": "markdown",
      "metadata": {
        "id": "view-in-github",
        "colab_type": "text"
      },
      "source": [
        "<a href=\"https://colab.research.google.com/github/Deep-relay/Yhill-wali-bakchodi/blob/main/DS_FEB.ipynb\" target=\"_parent\"><img src=\"https://colab.research.google.com/assets/colab-badge.svg\" alt=\"Open In Colab\"/></a>"
      ]
    },
    {
      "cell_type": "markdown",
      "source": [
        "**Variable Naming Rules**\n",
        "\n",
        "1. A variable name must start with a letter or the _ .\n",
        "\n",
        "2. A variable can't start with a number\n",
        "\n",
        "3. A variable name can only contain alpha numeric characters and underscores (a-Z,0-9 , and _).\n",
        "\n",
        "4. Variable names are case sensitive.\n",
        "\n",
        "5. A variable can't be any of the python keyword"
      ],
      "metadata": {
        "id": "dudeEjD4QRxu"
      }
    },
    {
      "cell_type": "code",
      "execution_count": null,
      "metadata": {
        "colab": {
          "base_uri": "https://localhost:8080/"
        },
        "id": "e17um8T1PB0B",
        "outputId": "9f8247b5-9274-45b8-f493-bcd21b513f7e"
      },
      "outputs": [
        {
          "output_type": "stream",
          "name": "stdout",
          "text": [
            "apple\n",
            "mango\n"
          ]
        }
      ],
      "source": [
        "fruit = 'apple'\n",
        "print(fruit)\n",
        "_fruit = 'mango'\n",
        "print(_fruit)"
      ]
    },
    {
      "cell_type": "code",
      "source": [
        "9fruit = \"orange\"\n",
        "print(9fruit)"
      ],
      "metadata": {
        "colab": {
          "base_uri": "https://localhost:8080/",
          "height": 106
        },
        "id": "gaVBJaIORM9K",
        "outputId": "359772ef-39be-4080-efd8-6b75f6dca7c5"
      },
      "execution_count": null,
      "outputs": [
        {
          "output_type": "error",
          "ename": "SyntaxError",
          "evalue": "invalid decimal literal (<ipython-input-2-33e8e18d6e63>, line 1)",
          "traceback": [
            "\u001b[0;36m  File \u001b[0;32m\"<ipython-input-2-33e8e18d6e63>\"\u001b[0;36m, line \u001b[0;32m1\u001b[0m\n\u001b[0;31m    9fruit = \"orange\"\u001b[0m\n\u001b[0m    ^\u001b[0m\n\u001b[0;31mSyntaxError\u001b[0m\u001b[0;31m:\u001b[0m invalid decimal literal\n"
          ]
        }
      ]
    },
    {
      "cell_type": "code",
      "source": [
        "fruit = \"Papaya\"\n",
        "print(fruit)\n",
        "Fruit = \"Kiwi\"\n",
        "print(Fruit)\n",
        "FRUIT = \"Banana\"\n",
        "print(FRUIT)\n",
        "fruit9 = \"Grapes\"\n",
        "print(fruit9)"
      ],
      "metadata": {
        "colab": {
          "base_uri": "https://localhost:8080/"
        },
        "id": "PaRIV-FcRocf",
        "outputId": "ff1a323c-0e18-4510-f595-c490bb8462de"
      },
      "execution_count": null,
      "outputs": [
        {
          "output_type": "stream",
          "name": "stdout",
          "text": [
            "Papaya\n",
            "Kiwi\n",
            "Banana\n",
            "Grapes\n"
          ]
        }
      ]
    },
    {
      "cell_type": "code",
      "source": [
        "def = \"Mango\"\n",
        "print(def)"
      ],
      "metadata": {
        "colab": {
          "base_uri": "https://localhost:8080/",
          "height": 106
        },
        "id": "2VI4O3V3R-oi",
        "outputId": "ced5756a-573e-4492-d698-c43bfafb2655"
      },
      "execution_count": null,
      "outputs": [
        {
          "output_type": "error",
          "ename": "SyntaxError",
          "evalue": "invalid syntax (<ipython-input-4-afe1ac2c1e31>, line 1)",
          "traceback": [
            "\u001b[0;36m  File \u001b[0;32m\"<ipython-input-4-afe1ac2c1e31>\"\u001b[0;36m, line \u001b[0;32m1\u001b[0m\n\u001b[0;31m    def = \"Mango\"\u001b[0m\n\u001b[0m        ^\u001b[0m\n\u001b[0;31mSyntaxError\u001b[0m\u001b[0;31m:\u001b[0m invalid syntax\n"
          ]
        }
      ]
    },
    {
      "cell_type": "code",
      "source": [
        "fruit_new = \"Orange\"\n",
        "print(fruit_new)"
      ],
      "metadata": {
        "colab": {
          "base_uri": "https://localhost:8080/"
        },
        "id": "MJrZT7MoShcL",
        "outputId": "d376db6e-e581-4434-8072-016583678521"
      },
      "execution_count": null,
      "outputs": [
        {
          "output_type": "stream",
          "name": "stdout",
          "text": [
            "Orange\n"
          ]
        }
      ]
    },
    {
      "cell_type": "code",
      "source": [
        "Age = 12\n",
        "age = 13\n",
        "AGE = 15\n",
        "print(Age)\n",
        "print(age)\n",
        "print(AGE)"
      ],
      "metadata": {
        "colab": {
          "base_uri": "https://localhost:8080/"
        },
        "id": "1CB6j-WbS3rs",
        "outputId": "ecf6a215-f353-423d-95c9-ce6a5d88591c"
      },
      "execution_count": null,
      "outputs": [
        {
          "output_type": "stream",
          "name": "stdout",
          "text": [
            "12\n",
            "13\n",
            "15\n"
          ]
        }
      ]
    },
    {
      "cell_type": "code",
      "source": [
        "a = 10\n",
        "b = 20\n",
        "print(a+b)"
      ],
      "metadata": {
        "colab": {
          "base_uri": "https://localhost:8080/"
        },
        "id": "6fO2J74LT_Oe",
        "outputId": "253c51d9-846d-463d-fb27-73383298b2fc"
      },
      "execution_count": null,
      "outputs": [
        {
          "output_type": "stream",
          "name": "stdout",
          "text": [
            "30\n"
          ]
        }
      ]
    },
    {
      "cell_type": "code",
      "source": [
        "a = 10\n",
        "b = 20\n",
        "c = a-b\n",
        "print(c)"
      ],
      "metadata": {
        "colab": {
          "base_uri": "https://localhost:8080/"
        },
        "id": "qaiULknUVmlB",
        "outputId": "65e29bbb-829d-4401-ca92-12fe20d748be"
      },
      "execution_count": null,
      "outputs": [
        {
          "output_type": "stream",
          "name": "stdout",
          "text": [
            "-10\n"
          ]
        }
      ]
    },
    {
      "cell_type": "code",
      "source": [
        "a = 10\n",
        "b = 20\n",
        "print(a*b)"
      ],
      "metadata": {
        "colab": {
          "base_uri": "https://localhost:8080/"
        },
        "id": "5yaa954CVvOD",
        "outputId": "b26e6d18-fb54-4565-de4b-c0184ccbcba2"
      },
      "execution_count": null,
      "outputs": [
        {
          "output_type": "stream",
          "name": "stdout",
          "text": [
            "200\n"
          ]
        }
      ]
    },
    {
      "cell_type": "markdown",
      "source": [
        "**Data Types**\n",
        "\n",
        "Text Type : str(string)\n",
        "\n",
        "Numeric Type : int(integer),float,complex\n",
        "\n",
        "Sequence Types : list, tuple ,range\n",
        "\n",
        "Mapping Type : dict(Dictionary)\n",
        "\n",
        "Set Types : set , frozenset\n",
        "\n",
        "Boolean Type : bool\n",
        "\n",
        "Binary Types : Bytes, bytearray,memoryview\n",
        "\n",
        "NoneType : NoneType"
      ],
      "metadata": {
        "id": "BvAYy5csW02C"
      }
    },
    {
      "cell_type": "code",
      "source": [
        "a = \"Apple\"\n",
        "print(a)\n",
        "type(a)"
      ],
      "metadata": {
        "colab": {
          "base_uri": "https://localhost:8080/"
        },
        "id": "blA_EHAFV1tw",
        "outputId": "cd8863c8-c233-4b95-98e6-18bc3bad29d9"
      },
      "execution_count": null,
      "outputs": [
        {
          "output_type": "stream",
          "name": "stdout",
          "text": [
            "Apple\n"
          ]
        },
        {
          "output_type": "execute_result",
          "data": {
            "text/plain": [
              "str"
            ]
          },
          "metadata": {},
          "execution_count": 15
        }
      ]
    },
    {
      "cell_type": "code",
      "source": [
        "a = 'Apple'\n",
        "print(a)"
      ],
      "metadata": {
        "colab": {
          "base_uri": "https://localhost:8080/"
        },
        "id": "4zQ3RSAoYFzK",
        "outputId": "4249d49c-64cd-4b7e-82fd-e5e3b022336c"
      },
      "execution_count": null,
      "outputs": [
        {
          "output_type": "stream",
          "name": "stdout",
          "text": [
            "Apple\n"
          ]
        }
      ]
    },
    {
      "cell_type": "code",
      "source": [
        "n = 10\n",
        "print(n)\n",
        "type(n)"
      ],
      "metadata": {
        "colab": {
          "base_uri": "https://localhost:8080/"
        },
        "id": "jQyXVU3oYOEq",
        "outputId": "7fb48a98-b9ee-42ee-dd69-e3d93346992a"
      },
      "execution_count": null,
      "outputs": [
        {
          "output_type": "stream",
          "name": "stdout",
          "text": [
            "10\n"
          ]
        },
        {
          "output_type": "execute_result",
          "data": {
            "text/plain": [
              "int"
            ]
          },
          "metadata": {},
          "execution_count": 16
        }
      ]
    },
    {
      "cell_type": "code",
      "source": [
        "b = 44.32\n",
        "print(b)\n",
        "type(b)"
      ],
      "metadata": {
        "colab": {
          "base_uri": "https://localhost:8080/"
        },
        "id": "VXk6Cb52Yxc7",
        "outputId": "2d98ecc3-06d2-4adf-de60-a51ba01d6c71"
      },
      "execution_count": null,
      "outputs": [
        {
          "output_type": "stream",
          "name": "stdout",
          "text": [
            "44.32\n"
          ]
        },
        {
          "output_type": "execute_result",
          "data": {
            "text/plain": [
              "float"
            ]
          },
          "metadata": {},
          "execution_count": 17
        }
      ]
    },
    {
      "cell_type": "code",
      "source": [
        "c = 3+4j\n",
        "print(c)\n",
        "type(c)"
      ],
      "metadata": {
        "colab": {
          "base_uri": "https://localhost:8080/"
        },
        "id": "rCrl1j9mZAD0",
        "outputId": "e8974741-fbfd-4f5d-83b1-1bfa1a599a30"
      },
      "execution_count": null,
      "outputs": [
        {
          "output_type": "stream",
          "name": "stdout",
          "text": [
            "(3+4j)\n"
          ]
        },
        {
          "output_type": "execute_result",
          "data": {
            "text/plain": [
              "complex"
            ]
          },
          "metadata": {},
          "execution_count": 18
        }
      ]
    },
    {
      "cell_type": "code",
      "source": [],
      "metadata": {
        "id": "avFbjZ5qZVBd"
      },
      "execution_count": null,
      "outputs": []
    }
  ]
}